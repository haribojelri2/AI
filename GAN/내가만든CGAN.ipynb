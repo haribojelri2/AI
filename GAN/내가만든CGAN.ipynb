{
 "cells": [
  {
   "cell_type": "code",
   "execution_count": 1,
   "id": "3197ebb0-8871-4520-8051-f4dc1b4cc36d",
   "metadata": {},
   "outputs": [
    {
     "name": "stdout",
     "output_type": "stream",
     "text": [
      "Random Seed:  999\n"
     ]
    },
    {
     "data": {
      "text/plain": [
       "<torch._C.Generator at 0x1dc88fe5990>"
      ]
     },
     "execution_count": 1,
     "metadata": {},
     "output_type": "execute_result"
    }
   ],
   "source": [
    "import os\n",
    "import random\n",
    "import torch\n",
    "import torch.nn as nn\n",
    "import torch.optim as optim\n",
    "import torch.utils.data \n",
    "import torchvision.datasets as datasets\n",
    "import torchvision.transforms as transforms\n",
    "import torchvision.utils as vutils\n",
    "import numpy as np\n",
    "import matplotlib.pyplot as plt\n",
    "manualSeed = 999\n",
    "#manualSeed = random.randint(1, 10000) # 만일 새로운 결과를 원한다면 주석을 없애면 됩니다\n",
    "print(\"Random Seed: \", manualSeed)\n",
    "random.seed(manualSeed)\n",
    "torch.manual_seed(manualSeed)"
   ]
  },
  {
   "cell_type": "code",
   "execution_count": 2,
   "id": "86b0e8fe-e55b-4cb1-8541-4f6e46491617",
   "metadata": {},
   "outputs": [],
   "source": [
    "from pytorch_ranger import Ranger "
   ]
  },
  {
   "cell_type": "code",
   "execution_count": 3,
   "id": "6d29f479-60d9-4b6e-9d39-d73bcf5a7642",
   "metadata": {},
   "outputs": [],
   "source": [
    "transform = transforms.Compose(\n",
    "    [transforms.ToTensor(),\n",
    "     transforms.Normalize([0.5],[0.5])])\n",
    "\n",
    "trainset = datasets.MNIST(root='./dataset', train=True, \n",
    "                                        download=True, transform=transform)\n",
    "trainloader = torch.utils.data.DataLoader(trainset, batch_size=250, \n",
    "                                          shuffle=True, num_workers=2)\n",
    "\n"
   ]
  },
  {
   "cell_type": "code",
   "execution_count": 4,
   "id": "bf30df0e-778a-4a51-8cf1-8eed34afb359",
   "metadata": {},
   "outputs": [
    {
     "name": "stdout",
     "output_type": "stream",
     "text": [
      "Now using cuda devices\n"
     ]
    }
   ],
   "source": [
    "device = torch.device('cuda' if torch.cuda.is_available() else 'cpu')\n",
    "print(\"Now using {} devices\".format(device))"
   ]
  },
  {
   "cell_type": "code",
   "execution_count": 5,
   "id": "6bc81247-6b6e-45f7-a5d5-a86d68aa803b",
   "metadata": {},
   "outputs": [
    {
     "data": {
      "text/plain": [
       "torch.Size([250, 1, 28, 28])"
      ]
     },
     "execution_count": 5,
     "metadata": {},
     "output_type": "execute_result"
    }
   ],
   "source": [
    "# 샘플 이미지 확인하기\n",
    "real_batch = next(iter(trainloader))\n",
    "real_batch[0].shape"
   ]
  },
  {
   "cell_type": "code",
   "execution_count": 19,
   "id": "ebe122bd-6058-44d7-bc4f-4959e89bed44",
   "metadata": {},
   "outputs": [],
   "source": [
    "#변수\n",
    "nz = 100   #노이즈\n",
    "lr = 0.0002    #옵티마이저 학습률\n",
    "beta1 = 0.5   #Adam 옵티마이저의 beta1 하이퍼파라미터\n",
    "image_size = 1 * 28 * 28  # 이미지 크기\n",
    "batch_size = 250\n",
    "n_class = 10\n",
    "epochs = 20"
   ]
  },
  {
   "cell_type": "code",
   "execution_count": 20,
   "id": "9c47c11c-252d-4671-a9c0-9b2f8eaca80c",
   "metadata": {},
   "outputs": [],
   "source": [
    "class Generator(nn.Module):\n",
    "    def __init__(self):\n",
    "        super().__init__()\n",
    "        \n",
    "        self.embed = nn.Embedding(10, 10)\n",
    "        \n",
    "        self.model = nn.Sequential(\n",
    "            nn.Linear(nz + n_class, 256),\n",
    "            nn.LeakyReLU(0.2, inplace=True),\n",
    "            nn.Linear(256, 512),\n",
    "            nn.LeakyReLU(0.2, inplace=True),\n",
    "            nn.Linear(512, 1024),\n",
    "            nn.LeakyReLU(0.2, inplace=True),\n",
    "            nn.Linear(1024, image_size),\n",
    "            nn.Tanh()\n",
    "        )\n",
    "    \n",
    "    def forward(self, z, labels):\n",
    "        c = self.embed(labels)\n",
    "        x = torch.cat([z, c], 1)\n",
    "        return self.model(x)"
   ]
  },
  {
   "cell_type": "code",
   "execution_count": 21,
   "id": "db70dc23-f2b6-44e2-8892-a7fb7d90e9d8",
   "metadata": {},
   "outputs": [],
   "source": [
    "class Discriminator(nn.Module):\n",
    "    def __init__(self):\n",
    "        super().__init__()\n",
    "        \n",
    "        self.embed = nn.Embedding(10, 10)\n",
    "        \n",
    "        self.model = nn.Sequential(\n",
    "            nn.Linear(image_size + n_class, 1024),\n",
    "            nn.LeakyReLU(0.2, inplace=True),\n",
    "            nn.Dropout(0.3),\n",
    "            nn.Linear(1024, 512),\n",
    "            nn.LeakyReLU(0.2, inplace=True),\n",
    "            nn.Dropout(0.3),\n",
    "            nn.Linear(512, 256),\n",
    "            nn.LeakyReLU(0.2, inplace=True),\n",
    "            nn.Dropout(0.3),\n",
    "            nn.Linear(256, 1),\n",
    "            nn.Sigmoid()\n",
    "        )\n",
    "    \n",
    "    def forward(self, x, labels):\n",
    "        c = self.embed(labels)\n",
    "        x = torch.cat([x, c], 1)\n",
    "        return self.model(x)"
   ]
  },
  {
   "cell_type": "code",
   "execution_count": 22,
   "id": "c6f268d5-6c26-4538-a48f-5ca2cf68642f",
   "metadata": {},
   "outputs": [],
   "source": [
    "D = Discriminator().to(device)\n",
    "G = Generator().to(device)\n",
    "\n",
    "# 이진 교차 엔트로피 함수와\n",
    "# 생성자와 판별자를 최적화할 Adam 모듈\n",
    "criterion = nn.BCELoss()\n",
    "d_optimizer = Ranger(D.parameters(), lr = lr)\n",
    "g_optimizer = Ranger(G.parameters(), lr = lr)"
   ]
  },
  {
   "cell_type": "code",
   "execution_count": 48,
   "id": "473ab17c-d22b-40e6-833b-3f3b3f7da787",
   "metadata": {},
   "outputs": [
    {
     "name": "stdout",
     "output_type": "stream",
     "text": [
      "epoch [0/20] d_loss:0.2535 g_loss: 3.2464 D(x):0.92 D(G(z)):0.06\n",
      "epoch [1/20] d_loss:0.2228 g_loss: 3.0228 D(x):0.95 D(G(z)):0.08\n",
      "epoch [2/20] d_loss:0.2530 g_loss: 3.1350 D(x):0.91 D(G(z)):0.03\n",
      "epoch [3/20] d_loss:0.2522 g_loss: 3.0172 D(x):0.88 D(G(z)):0.03\n",
      "epoch [4/20] d_loss:0.1980 g_loss: 3.4806 D(x):0.94 D(G(z)):0.06\n",
      "epoch [5/20] d_loss:0.2683 g_loss: 2.6774 D(x):0.94 D(G(z)):0.11\n",
      "epoch [6/20] d_loss:0.3981 g_loss: 2.9071 D(x):0.83 D(G(z)):0.04\n",
      "epoch [7/20] d_loss:0.3983 g_loss: 2.4913 D(x):0.83 D(G(z)):0.04\n",
      "epoch [8/20] d_loss:0.4035 g_loss: 2.3958 D(x):0.86 D(G(z)):0.07\n",
      "epoch [9/20] d_loss:0.3795 g_loss: 2.9346 D(x):0.88 D(G(z)):0.09\n",
      "epoch [10/20] d_loss:0.2839 g_loss: 3.1900 D(x):0.91 D(G(z)):0.08\n",
      "epoch [11/20] d_loss:0.3816 g_loss: 2.6391 D(x):0.90 D(G(z)):0.12\n",
      "epoch [12/20] d_loss:0.4310 g_loss: 2.2778 D(x):0.85 D(G(z)):0.11\n",
      "epoch [13/20] d_loss:0.4370 g_loss: 2.2209 D(x):0.88 D(G(z)):0.15\n",
      "epoch [14/20] d_loss:0.3487 g_loss: 2.3979 D(x):0.86 D(G(z)):0.09\n",
      "epoch [15/20] d_loss:0.4040 g_loss: 2.7124 D(x):0.87 D(G(z)):0.12\n",
      "epoch [16/20] d_loss:0.3758 g_loss: 2.8929 D(x):0.89 D(G(z)):0.11\n",
      "epoch [17/20] d_loss:0.4498 g_loss: 2.3299 D(x):0.82 D(G(z)):0.08\n",
      "epoch [18/20] d_loss:0.4955 g_loss: 2.1369 D(x):0.83 D(G(z)):0.11\n",
      "epoch [19/20] d_loss:0.4891 g_loss: 1.8611 D(x):0.83 D(G(z)):0.14\n"
     ]
    }
   ],
   "source": [
    "total_step = len(trainloader)\n",
    "for epoch in range(epochs):\n",
    "    for i, (images, labels) in enumerate(trainloader):\n",
    "        images = images.reshape(batch_size, -1).to(device)\n",
    "        \n",
    "        # '진짜'와 '가짜' 레이블 생성\n",
    "        real_labels = torch.ones(batch_size, 1).to(device)\n",
    "        fake_labels = torch.zeros(batch_size, 1).to(device)\n",
    "\n",
    "        # 판별자가 진짜 이미지를 진짜로 인식하는 오차 계산 (데이터셋 레이블 입력)\n",
    "        labels = labels.to(device)\n",
    "        outputs = D(images, labels)\n",
    "        d_loss_real = criterion(outputs, real_labels)\n",
    "        real_score = outputs\n",
    "    \n",
    "        # 무작위 텐서와 무작위 레이블을 생성자에 입력해 가짜 이미지 생성\n",
    "        z = torch.randn(batch_size, 100).to(device)\n",
    "        g_label = torch.randint(0, 10, (batch_size,)).to(device)\n",
    "        fake_images = G(z, g_label)\n",
    "        \n",
    "        # 판별자가 가짜 이미지를 가짜로 인식하는 오차 계산\n",
    "        outputs = D(fake_images, g_label)\n",
    "        d_loss_fake = criterion(outputs, fake_labels)\n",
    "        fake_score = outputs\n",
    "        \n",
    "        # 진짜와 가짜 이미지를 갖고 낸 오차를 더해서 판별자의 오차 계산\n",
    "        d_loss = d_loss_real + d_loss_fake\n",
    "        \n",
    "        # 역전파 알고리즘으로 판별자 모델의 학습을 진행\n",
    "        d_optimizer.zero_grad()\n",
    "        g_optimizer.zero_grad()\n",
    "        d_loss.backward()\n",
    "        d_optimizer.step()\n",
    "        \n",
    "        # 생성자가 판별자를 속였는지에 대한 오차 계산(무작위 레이블 입력)\n",
    "        fake_images = G(z, g_label)\n",
    "        outputs = D(fake_images, g_label)\n",
    "        g_loss = criterion(outputs, real_labels)\n",
    "\n",
    "        # 역전파 알고리즘으로 생성자 모델의 학습을 진행\n",
    "        d_optimizer.zero_grad()\n",
    "        g_optimizer.zero_grad()\n",
    "        g_loss.backward()\n",
    "        g_optimizer.step()\n",
    "    print('epoch [{}/{}] d_loss:{:.4f} g_loss: {:.4f} D(x):{:.2f} D(G(z)):{:.2f}'\n",
    "      .format(epoch,\n",
    "              epochs,\n",
    "              d_loss.item(),\n",
    "              g_loss.item(),\n",
    "              real_score.mean().item(),\n",
    "              fake_score.mean().item()))\n"
   ]
  },
  {
   "cell_type": "code",
   "execution_count": 47,
   "id": "cf3c9b03-d1a4-42ee-aa91-90871179e1b3",
   "metadata": {},
   "outputs": [
    {
     "data": {
      "image/png": "[encoded data removed]",
      "text/plain": [
       "<Figure size 640x480 with 1 Axes>"
      ]
     },
     "metadata": {},
     "output_type": "display_data"
    }
   ],
   "source": [
    "item_number = 2 # 아이템 번호\n",
    "z = torch.randn(1, 100).to(device) # 배치 크기 1\n",
    "g_label = torch.full((1,), item_number, dtype=torch.long).to(device)\n",
    "\n",
    "sample_images = G(z, g_label)\n",
    "\n",
    "sample_images_img = np.reshape(sample_images.data.cpu().numpy()[0],(28,28,1))\n",
    "plt.imshow(sample_images_img, cmap = 'gray')\n",
    "plt.show()"
   ]
  },
  {
   "cell_type": "code",
   "execution_count": null,
   "id": "35bd295d-3b4f-4a9a-8092-2fd15d0544ea",
   "metadata": {},
   "outputs": [],
   "source": []
  },
  {
   "cell_type": "code",
   "execution_count": null,
   "id": "94b4b51b-6e6b-4cc1-a0d1-e1cbb3c30a7c",
   "metadata": {},
   "outputs": [],
   "source": []
  },
  {
   "cell_type": "code",
   "execution_count": null,
   "id": "4afd7359-1adc-4c83-9001-2a59c7065ca0",
   "metadata": {},
   "outputs": [],
   "source": []
  },
  {
   "cell_type": "code",
   "execution_count": null,
   "id": "744640b0-5a04-468b-91f0-7de09dd0af30",
   "metadata": {},
   "outputs": [],
   "source": []
  },
  {
   "cell_type": "code",
   "execution_count": null,
   "id": "225bb4cb-e420-45bd-8b67-c6e54cafcc09",
   "metadata": {},
   "outputs": [],
   "source": []
  }
 ],
 "metadata": {
  "kernelspec": {
   "display_name": "'cuda'",
   "language": "python",
   "name": "cuda"
  },
  "language_info": {
   "codemirror_mode": {
    "name": "ipython",
    "version": 3
   },
   "file_extension": ".py",
   "mimetype": "text/x-python",
   "name": "python",
   "nbconvert_exporter": "python",
   "pygments_lexer": "ipython3",
   "version": "3.9.15"
  }
 },
 "nbformat": 4,
 "nbformat_minor": 5
}
