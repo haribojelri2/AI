{
 "cells": [
  {
   "cell_type": "code",
   "execution_count": 3,
   "id": "b4e15db8-a866-40b2-85dc-1c3c089a1ff2",
   "metadata": {},
   "outputs": [],
   "source": [
    "import cv2\n",
    "import numpy as np\n",
    "import math"
   ]
  },
  {
   "cell_type": "code",
   "execution_count": 4,
   "id": "af5e4b99-4209-4c51-828f-eeec83f8d67a",
   "metadata": {},
   "outputs": [],
   "source": [
    "file_name = 'car3.jpeg'\n",
    "img = cv2.imread(file_name)\n",
    "cv2.imshow('img',img)\n",
    "cv2.waitKey(0)\n",
    "cv2.destroyAllWindows()\n",
    "height, width,channels = img.shape"
   ]
  },
  {
   "cell_type": "code",
   "execution_count": 5,
   "id": "129348bd-aaef-47a4-8565-41e39e072b82",
   "metadata": {},
   "outputs": [],
   "source": [
    "gray = cv2.cvtColor(img, cv2.COLOR_RGB2GRAY)"
   ]
  },
  {
   "cell_type": "code",
   "execution_count": 6,
   "id": "c3d5c354-93ba-4b43-8027-b40a3e55ad0b",
   "metadata": {},
   "outputs": [],
   "source": [
    "blur = cv2.GaussianBlur(gray, (5,5), 0)"
   ]
  },
  {
   "cell_type": "code",
   "execution_count": 7,
   "id": "49f6bec7-48f6-4ae1-98cc-b270283569ed",
   "metadata": {},
   "outputs": [],
   "source": [
    "# thresh = cv2.adaptiveThreshold(\n",
    "#     blur,\n",
    "#     maxValue = 255.0,\n",
    "#     adaptiveMethod = cv2.ADAPTIVE_THRESH_GAUSSIAN_C,\n",
    "#     thresholdType = cv2.THRESH_BINARY_INV,\n",
    "#     blockSize=19,\n",
    "#     C=9\n",
    "# )\n",
    "\n",
    "\n",
    "# contours,_ = cv2.findContours(thresh, cv2.RETR_TREE, cv2.CHAIN_APPROX_SIMPLE)\n",
    "\n",
    "# temp_result = np.zeros((height,width,channels), dtype = np.uint8)\n",
    "# cv2.drawContours(temp_result,contours, -1, (255,255,255),1)\n",
    "# cv2.imshow('temp_result',temp_result)\n",
    "# cv2.waitKey(0)\n",
    "# cv2.destroyAllWindows()"
   ]
  },
  {
   "cell_type": "code",
   "execution_count": 8,
   "id": "368215f8-55d8-453b-a55d-61f4414a9006",
   "metadata": {},
   "outputs": [],
   "source": [
    "canny = cv2.Canny(blur, 70, 200) #숫자들 = threshold\n",
    "cv2.imshow('canny',canny)\n",
    "cv2.waitKey(0)\n",
    "cv2.destroyAllWindows()"
   ]
  },
  {
   "cell_type": "code",
   "execution_count": 9,
   "id": "51a548f8-1694-4cff-a0b0-65762438a9a6",
   "metadata": {},
   "outputs": [],
   "source": [
    "mask = np.zeros((height,width), dtype='uint8')"
   ]
  },
  {
   "cell_type": "code",
   "execution_count": 10,
   "id": "8c2eb0ee-ecf6-4100-a9f9-04faa256e7a0",
   "metadata": {},
   "outputs": [],
   "source": [
    "poly_height = int(0.6 * height)\n",
    "poly_left = int(0.47 * width)\n",
    "poly_right = int(0.53 * width)\n",
    "polygons = np.array([[(0,height),(poly_left,poly_height), (poly_right, poly_height), (width,height)]])\n",
    "cv2.fillPoly(mask, polygons,255)\n",
    "cv2.imshow('mask',mask)\n",
    "cv2.waitKey(0)\n",
    "cv2.destroyAllWindows()"
   ]
  },
  {
   "cell_type": "code",
   "execution_count": 11,
   "id": "e0783391-1b8c-4b12-98f1-763f5a9f5cf5",
   "metadata": {},
   "outputs": [],
   "source": [
    "masked = cv2.bitwise_and(canny, mask)\n",
    "cv2.imshow('masked',masked)\n",
    "cv2.waitKey(0)\n",
    "cv2.destroyAllWindows()"
   ]
  },
  {
   "cell_type": "code",
   "execution_count": 12,
   "id": "505ccf36-3925-464e-9250-8d621ef00822",
   "metadata": {},
   "outputs": [],
   "source": [
    "lines = cv2.HoughLinesP(masked, 2, np.pi/180, 20 , np.array([]), 20, 10)"
   ]
  },
  {
   "cell_type": "code",
   "execution_count": 13,
   "id": "7326bf94-9c66-4eb8-a38c-e2177c94c6df",
   "metadata": {},
   "outputs": [],
   "source": [
    "img_new = cv2.cvtColor(canny, cv2.COLOR_GRAY2RGB)\n",
    "if lines is not None:\n",
    "    for line in lines:\n",
    "        x1,y1,x2,y2 = line.reshape(4)\n",
    "        cv2.line(img_new, (x1, y1), (x2, y2), (0,0,255), 1)\n",
    "    cv2.imshow('img_new',img_new)\n",
    "cv2.waitKey(0)\n",
    "cv2.destroyAllWindows()"
   ]
  },
  {
   "cell_type": "code",
   "execution_count": 15,
   "id": "94135bd6-48d6-4881-8001-ec412a443a40",
   "metadata": {},
   "outputs": [],
   "source": [
    "if lines is not None:\n",
    "    for line in lines:\n",
    "        x1,y1,x2,y2 = line.reshape(4)\n",
    "        cv2.line(img, (x1, y1), (x2, y2), (0,0,255), 5)\n",
    "    cv2.imshow('img',img)\n",
    "cv2.waitKey(0)\n",
    "cv2.destroyAllWindows()"
   ]
  },
  {
   "cell_type": "code",
   "execution_count": null,
   "id": "aa868d7f-2dce-4a67-8ca7-76ac7e1b5577",
   "metadata": {},
   "outputs": [],
   "source": []
  },
  {
   "cell_type": "code",
   "execution_count": null,
   "id": "03f31c19-cbd6-4fab-badb-898356986558",
   "metadata": {},
   "outputs": [],
   "source": []
  },
  {
   "cell_type": "code",
   "execution_count": null,
   "id": "0a222810-3bb8-4e08-88ff-228fef4659e7",
   "metadata": {},
   "outputs": [],
   "source": []
  },
  {
   "cell_type": "code",
   "execution_count": null,
   "id": "0e42c965-1e7d-4588-a35f-79a089e43abc",
   "metadata": {},
   "outputs": [],
   "source": []
  },
  {
   "cell_type": "code",
   "execution_count": null,
   "id": "239a8fa8-fa7b-4091-b435-ec25cea70d7e",
   "metadata": {},
   "outputs": [],
   "source": []
  },
  {
   "cell_type": "code",
   "execution_count": null,
   "id": "629d7daa-b47b-474a-b879-37bf834c630a",
   "metadata": {},
   "outputs": [],
   "source": []
  },
  {
   "cell_type": "code",
   "execution_count": null,
   "id": "05ab3192-3cdf-47ca-8118-e618c973f647",
   "metadata": {},
   "outputs": [],
   "source": []
  },
  {
   "cell_type": "code",
   "execution_count": null,
   "id": "99d1af9e-a399-42ae-82e0-2af61f0c6111",
   "metadata": {},
   "outputs": [],
   "source": []
  },
  {
   "cell_type": "code",
   "execution_count": null,
   "id": "fbb5202b-d77d-4f44-bf2f-f1db7d9fb2fc",
   "metadata": {},
   "outputs": [],
   "source": []
  },
  {
   "cell_type": "code",
   "execution_count": null,
   "id": "f00d07b4-a4b8-4d46-b729-30e8537a3819",
   "metadata": {},
   "outputs": [],
   "source": []
  },
  {
   "cell_type": "code",
   "execution_count": null,
   "id": "a7cbc9c5-4f31-4b11-b04b-6abce1272cda",
   "metadata": {},
   "outputs": [],
   "source": []
  },
  {
   "cell_type": "code",
   "execution_count": null,
   "id": "d761d007-d5c9-4d52-b198-9a9f39d96155",
   "metadata": {},
   "outputs": [],
   "source": []
  },
  {
   "cell_type": "code",
   "execution_count": null,
   "id": "ae9f589b-391d-41fd-8130-692ec3c0c5a8",
   "metadata": {},
   "outputs": [],
   "source": []
  },
  {
   "cell_type": "code",
   "execution_count": null,
   "id": "b936cca6-7cb7-407d-94ed-0cfe62f1d305",
   "metadata": {},
   "outputs": [],
   "source": []
  },
  {
   "cell_type": "code",
   "execution_count": null,
   "id": "4b00ff6b-24a4-4dd6-8727-905b81b612d9",
   "metadata": {},
   "outputs": [],
   "source": []
  },
  {
   "cell_type": "code",
   "execution_count": null,
   "id": "90f94095-47ce-4e86-a05c-68a2bc069920",
   "metadata": {},
   "outputs": [],
   "source": []
  },
  {
   "cell_type": "code",
   "execution_count": null,
   "id": "f1c25b7a-7583-4c16-a47a-633b8fd5da62",
   "metadata": {},
   "outputs": [],
   "source": []
  },
  {
   "cell_type": "code",
   "execution_count": null,
   "id": "86ac0328-8c04-4fe8-ae92-3aad2dbbee70",
   "metadata": {},
   "outputs": [],
   "source": []
  },
  {
   "cell_type": "code",
   "execution_count": null,
   "id": "05b86d7f-25ed-4b04-a2ef-3442483819b0",
   "metadata": {},
   "outputs": [],
   "source": []
  },
  {
   "cell_type": "code",
   "execution_count": null,
   "id": "fc1ef0f3-f761-4d73-903d-08a45b880c84",
   "metadata": {},
   "outputs": [],
   "source": []
  },
  {
   "cell_type": "code",
   "execution_count": null,
   "id": "0677b94f-2a34-476d-8faf-c64786fb158e",
   "metadata": {},
   "outputs": [],
   "source": []
  },
  {
   "cell_type": "code",
   "execution_count": null,
   "id": "6fdb46f0-7a03-46b0-9d30-dac96c81649b",
   "metadata": {},
   "outputs": [],
   "source": []
  },
  {
   "cell_type": "code",
   "execution_count": null,
   "id": "a9e74cc2-a8e8-43ca-bd0b-a2be1f376c0c",
   "metadata": {},
   "outputs": [],
   "source": []
  },
  {
   "cell_type": "code",
   "execution_count": null,
   "id": "df299aa8-82c5-4013-8f10-941da40659f1",
   "metadata": {},
   "outputs": [],
   "source": []
  },
  {
   "cell_type": "code",
   "execution_count": null,
   "id": "4eb51f34-a08b-4636-b15e-7a4b7c01f61a",
   "metadata": {},
   "outputs": [],
   "source": []
  },
  {
   "cell_type": "code",
   "execution_count": null,
   "id": "d3a4d353-24aa-4c38-8938-ae6a32c94f1f",
   "metadata": {},
   "outputs": [],
   "source": []
  },
  {
   "cell_type": "code",
   "execution_count": null,
   "id": "124d26e6-cad5-4d7a-bdd2-f4b96f1e7eec",
   "metadata": {},
   "outputs": [],
   "source": []
  },
  {
   "cell_type": "code",
   "execution_count": null,
   "id": "1c71ea9d-f43f-4899-b095-7045894f95d5",
   "metadata": {},
   "outputs": [],
   "source": []
  }
 ],
 "metadata": {
  "kernelspec": {
   "display_name": "'cuda'",
   "language": "python",
   "name": "cuda"
  },
  "language_info": {
   "codemirror_mode": {
    "name": "ipython",
    "version": 3
   },
   "file_extension": ".py",
   "mimetype": "text/x-python",
   "name": "python",
   "nbconvert_exporter": "python",
   "pygments_lexer": "ipython3",
   "version": "3.9.15"
  }
 },
 "nbformat": 4,
 "nbformat_minor": 5
}
