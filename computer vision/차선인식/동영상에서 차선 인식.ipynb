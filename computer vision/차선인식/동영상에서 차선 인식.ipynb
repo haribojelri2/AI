{
 "cells": [
  {
   "cell_type": "code",
   "execution_count": 32,
   "id": "e5c09e60-74ed-4d6c-a227-95e08bc302c3",
   "metadata": {},
   "outputs": [],
   "source": [
    "import cv2\n",
    "import numpy as np\n",
    "import IPython"
   ]
  },
  {
   "cell_type": "code",
   "execution_count": 33,
   "id": "e117d6ff-8eef-4489-a1e4-48da24df41c0",
   "metadata": {},
   "outputs": [],
   "source": [
    "file_name = 'C:\\\\Users\\\\pc\\\\Downloads\\\\archive (1)\\\\test_video.mp4'"
   ]
  },
  {
   "cell_type": "code",
   "execution_count": 40,
   "id": "916b4b4c-2718-44f2-8b3d-479b54eb3bd7",
   "metadata": {},
   "outputs": [],
   "source": [
    "def detectAndDisplay(frame):\n",
    "    IPython.display.clear_output(wait=True)\n",
    "    gray = cv2.cvtColor(frame, cv2.COLOR_RGB2GRAY)\n",
    "    height , width = gray.shape\n",
    "    blur = cv2.GaussianBlur(gray, (5,5), 0)\n",
    "    canny = cv2.Canny(blur, 40, 130)\n",
    "    mask = np.zeros((height,width), dtype = 'uint8')\n",
    "    poly_height = int(0.55 * height)\n",
    "    poly_left = int(0.3 * width)\n",
    "    poly_right = int(0.53 * width)\n",
    "    polygons = np.array([[(0,height),(poly_left,poly_height), (poly_right, poly_height), (width,height)]])\n",
    "    cv2.fillPoly(mask, polygons,255)\n",
    "    masked = cv2.bitwise_and(canny,mask)\n",
    "    lines = cv2.HoughLinesP(masked, 2, np.pi/180, 20 , np.array([]), 20, 10)\n",
    "    if lines is not None:\n",
    "        for line in lines:\n",
    "            x1,y1,x2,y2 = line.reshape(4)\n",
    "            cv2.line(frame, (x1, y1), (x2, y2), (0,0,255), 5)\n",
    "    cv2.imshow('frame',frame)\n",
    "    cv2.imshow('canny',canny)\n",
    "    # cv2.imshow('gray',gray)"
   ]
  },
  {
   "cell_type": "code",
   "execution_count": 41,
   "id": "614fd28e-ec21-4e8c-9407-21b15f22d357",
   "metadata": {},
   "outputs": [],
   "source": [
    "cap = cv2.VideoCapture(file_name)\n",
    "\n",
    "if not cap.isOpened:\n",
    "    print('error')\n",
    "    exit(0)\n",
    "    \n",
    "while True:\n",
    "    ret , frame = cap.read()\n",
    "    if frame is None:\n",
    "        print(\"No Capture\")\n",
    "        break\n",
    "    detectAndDisplay(frame)\n",
    "    if cv2.waitKey(1)==ord(\"q\"):\n",
    "        break\n",
    "cap.release() \n",
    "cv2.destroyAllWindows()"
   ]
  },
  {
   "cell_type": "code",
   "execution_count": null,
   "id": "f9941d29-3f01-4600-8a37-a386b7d07a27",
   "metadata": {},
   "outputs": [],
   "source": []
  }
 ],
 "metadata": {
  "kernelspec": {
   "display_name": "'cuda'",
   "language": "python",
   "name": "cuda"
  },
  "language_info": {
   "codemirror_mode": {
    "name": "ipython",
    "version": 3
   },
   "file_extension": ".py",
   "mimetype": "text/x-python",
   "name": "python",
   "nbconvert_exporter": "python",
   "pygments_lexer": "ipython3",
   "version": "3.9.15"
  }
 },
 "nbformat": 4,
 "nbformat_minor": 5
}
