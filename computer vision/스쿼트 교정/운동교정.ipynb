{
 "cells": [
  {
   "cell_type": "code",
   "execution_count": 1,
   "id": "84a671d9",
   "metadata": {
    "executionInfo": {
     "elapsed": 292,
     "status": "ok",
     "timestamp": 1664881880442,
     "user": {
      "displayName": "손지석",
      "userId": "14258049856933807650"
     },
     "user_tz": -540
    },
    "id": "fe462657-4e51-4f13-9c1c-29f26072d8a4"
   },
   "outputs": [
    {
     "name": "stdout",
     "output_type": "stream",
     "text": [
      "left_hip_per_err :  100.0\n",
      "right_hip_per_err :  0.0\n"
     ]
    }
   ],
   "source": [
    "import cv2\n",
    "import mediapipe as mp\n",
    "import numpy as np\n",
    "import time, os\n",
    "\n",
    "def calculate_angle(a,b,c):\n",
    "    a = np.array(a) # First\n",
    "    b = np.array(b) # Mid\n",
    "    c = np.array(c) # End\n",
    "    \n",
    "    radians = np.arctan2(c[1]-b[1], c[0]-b[0]) - np.arctan2(a[1]-b[1], a[0]-b[0])\n",
    "    angle = np.abs(radians*180.0/np.pi)\n",
    "    \n",
    "    if angle >180.0:\n",
    "        angle = 360-angle\n",
    "        \n",
    "    return angle\n",
    "\n",
    "mp_drawing = mp.solutions.drawing_utils\n",
    "mp_drawing_styles = mp.solutions.drawing_styles\n",
    "mp_pose = mp.solutions.pose\n",
    "\n",
    "video_path = '스쿼트.mp4'\n",
    "cap = cv2.VideoCapture(video_path)\n",
    "\n",
    "fourcc = cv2.VideoWriter_fourcc('m', 'p', '4', 'v')\n",
    "out = cv2.VideoWriter('%s_output.mp4' % (video_path.split('.')[0]), fourcc, cap.get(cv2.CAP_PROP_FPS), (int(cap.get(cv2.CAP_PROP_FRAME_WIDTH)), int(cap.get(cv2.CAP_PROP_FRAME_HEIGHT))))\n",
    "\n",
    "#허리 틀어짐 카운트 변수\n",
    "left_hip_count = 0\n",
    "right_hip_count =0 \n",
    "total_hip_err = 0\n",
    "\n",
    "is_first = True # 어드레스 시 첫 프레임을 받아오기 위한 플래그\n",
    "\n",
    "#어드레스 시 첫 프레임의 좌표를 저장할 변수\n",
    "# first_center_x, first_center_y = None, None\n",
    "first_left_hip_x, first_right_hip_x = None,None\n",
    "first_shoulder_x1,first_shoulder_x2,first_shoulder_y1,first_shoulder_y2 =None, None,None, None\n",
    "first_left_knee_x,first_left_knee_y,first_right_knee_x,first_right_knee_y = None,None,None,None\n",
    "first_right_heel, first_right_foot_index, first_right_angle=None,None,None\n",
    "hip_cnt = 0\n",
    "stage = None\n",
    "\n",
    "with mp_pose.Pose(\n",
    "    min_detection_confidence=0.5,\n",
    "    enable_segmentation=True,\n",
    "    min_tracking_confidence=0.5) as pose:\n",
    "    \n",
    "                    \n",
    "    while cap.isOpened():\n",
    "        success, image = cap.read()\n",
    "        if not success:\n",
    "            print(\"카메라를 찾을 수 없습니다.\")\n",
    "# 동영상을 불러올 경우는 'continue' 대신 'break'를 사용합니다.\n",
    "            break\n",
    "        image_h, image_w, _ = image.shape\n",
    "        img_result = image.copy()\n",
    "\n",
    "# 필요에 따라 성능 향상을 위해 이미지 작성을 불가능함으로 기본 설정합니다.\n",
    "        image.flags.writeable = False\n",
    "        image = cv2.cvtColor(image, cv2.COLOR_BGR2RGB)\n",
    "        results = pose.process(image)\n",
    "\n",
    "# 포즈 주석을 이미지 위에 그립니다.\n",
    "        img_result.flags.writeable = True\n",
    "        img_result = cv2.cvtColor(image, cv2.COLOR_RGB2BGR)\n",
    "        mp_drawing.draw_landmarks(\n",
    "            img_result,\n",
    "            results.pose_landmarks,\n",
    "            mp_pose.POSE_CONNECTIONS,\n",
    "            landmark_drawing_spec=mp_drawing_styles.get_default_pose_landmarks_style())\n",
    "\n",
    "\n",
    "        if results.pose_landmarks:\n",
    "            # https://google.github.io/mediapipe/solutions/pose.html#pose-landmark-model-blazepose-ghum-3d\n",
    "            landmark = results.pose_landmarks.landmark\n",
    "\n",
    "#힙 좌표\n",
    "            left_hip_x = int(landmark[mp_pose.PoseLandmark.LEFT_HIP].x * image_w)\n",
    "            left_hip_y = int(landmark[mp_pose.PoseLandmark.LEFT_HIP].y * image_h)\n",
    "\n",
    "            right_hip_x = int(landmark[mp_pose.PoseLandmark.RIGHT_HIP].x * image_w)\n",
    "            right_hip_y = int(landmark[mp_pose.PoseLandmark.RIGHT_HIP].y * image_h)\n",
    "            \n",
    "#무릎 좌표\n",
    "            left_knee_x = int(landmark[mp_pose.PoseLandmark.LEFT_KNEE].x * image_w)\n",
    "            left_knee_y = int(landmark[mp_pose.PoseLandmark.LEFT_KNEE].y * image_h)\n",
    "    \n",
    "            right_knee_x = int(landmark[mp_pose.PoseLandmark.RIGHT_KNEE].x * image_w)\n",
    "            right_knee_y = int(landmark[mp_pose.PoseLandmark.RIGHT_KNEE].x * image_h)\n",
    "            \n",
    "#어깨 좌표\n",
    "            left_shoulder_x = int(landmark[mp_pose.PoseLandmark.LEFT_SHOULDER].x * image_w)\n",
    "            left_shoulder_y = int(landmark[mp_pose.PoseLandmark.LEFT_SHOULDER].y * image_h)\n",
    "    \n",
    "            right_shoulder_x = int(landmark[mp_pose.PoseLandmark.RIGHT_SHOULDER].x * image_w)\n",
    "            right_shoulder_y = int(landmark[mp_pose.PoseLandmark.RIGHT_SHOULDER].y * image_h)\n",
    "            \n",
    "            \n",
    "#각도                     \n",
    "            hip = [landmark[mp_pose.PoseLandmark.RIGHT_HIP.value].x,landmark[mp_pose.PoseLandmark.RIGHT_HIP.value].y] #엉덩이 \n",
    "    \n",
    "            center_x = (landmark[mp_pose.PoseLandmark.RIGHT_HIP.value].x + landmark[mp_pose.PoseLandmark.LEFT_HIP.value].x)/2\n",
    "            center_y = (landmark[mp_pose.PoseLandmark.RIGHT_HIP.value].y + landmark[mp_pose.PoseLandmark.LEFT_HIP.value].y)/2\n",
    "            center =  [center_x,center_y]       #엉덩이 가상의 점 중앙\n",
    "    \n",
    "            shoulder = [landmark[mp_pose.PoseLandmark.RIGHT_SHOULDER.value].x,landmark[mp_pose.PoseLandmark.RIGHT_SHOULDER.value].y] #어깨 \n",
    "            \n",
    "            right_heel = [landmark[mp_pose.PoseLandmark.RIGHT_HEEL.value].x,landmark[mp_pose.PoseLandmark.RIGHT_HEEL.value].y] #발뒷꿈치 \n",
    "            right_foot_index = [landmark[mp_pose.PoseLandmark.RIGHT_FOOT_INDEX.value].x,landmark[mp_pose.PoseLandmark.RIGHT_FOOT_INDEX].y] #오른쪽 발가락\n",
    "            right_angle = [landmark[mp_pose.PoseLandmark.RIGHT_HEEL.value].x,landmark[mp_pose.PoseLandmark.RIGHT_FOOT_INDEX].y] #발의 각도를 구하기 위한 가상의 점\n",
    "\n",
    "            knee = [landmark[mp_pose.PoseLandmark.RIGHT_KNEE.value].x,landmark[mp_pose.PoseLandmark.RIGHT_KNEE.value].y] #무름 \n",
    "            right_angle2= [center_x,landmark[mp_pose.PoseLandmark.RIGHT_KNEE.value].y]  #무릎의 각도를 구하기 위한 가상의 점\n",
    "            \n",
    "            ankle = [landmark[mp_pose.PoseLandmark.RIGHT_ANKLE.value].x,landmark[mp_pose.PoseLandmark.RIGHT_ANKLE.value].y] #발목 각도\n",
    "            \n",
    "        \n",
    "            if is_first: # 어드레스 시 첫 프레임의 골판 좌표 저장\n",
    "                first_left_hip_x = left_hip_x\n",
    "                first_left_hip_y = left_hip_y\n",
    "\n",
    "                first_right_hip_x = right_hip_x\n",
    "                first_right_hip_y = right_hip_y\n",
    "\n",
    "                first_left_shoulder_x = left_shoulder_x\n",
    "                first_left_shoulder_y = left_shoulder_y\n",
    "\n",
    "                first_right_shoulder_x = right_shoulder_x\n",
    "                first_right_shoulder_y = right_shoulder_y\n",
    "\n",
    "                first_left_knee_x = left_knee_x\n",
    "                first_left_knee_y = left_knee_y\n",
    "\n",
    "                first_right_knee_x = right_knee_x\n",
    "                first_right_knee_y = right_knee_y\n",
    "                \n",
    "                first_right_heel = right_heel\n",
    "                first_right_foot_index = right_foot_index\n",
    "                first_right_angle = right_angle\n",
    "                #가상의 점, 발 뒷꿈치, 발가락 끝\n",
    "                angle2 = calculate_angle(first_right_angle,first_right_heel,first_right_foot_index) #발의 각도\n",
    "                is_first = False\n",
    "            else:\n",
    "                angle = calculate_angle(shoulder,hip,knee) #엉덩이 각도\n",
    "                angle3 = calculate_angle(right_angle2,center,knee) #무릎이 얼마나 벌려져있는지 \n",
    "\n",
    "                #엉덩이\n",
    "                cv2.circle(img_result, center = (first_left_hip_x,left_hip_y ), radius = 10, color=(0, 255, 255),thickness=2)\n",
    "                cv2.circle(img_result, center = (first_right_hip_x,right_hip_y ), radius = 10 , color=(0, 255, 255),thickness=2)\n",
    "\n",
    "                color = (0, 255, 0) # 초록색\n",
    "\n",
    "                # 골반 원래 위치보다  벗어난 경우\n",
    "                if left_hip_x<first_left_hip_x-5:\n",
    "                    color = (0, 0, 255) # 빨간\n",
    "                    left_hip_count +=1\n",
    "                    total_hip_err+=1\n",
    "                elif first_right_hip_x+5<right_hip_x:\n",
    "                    color = (0, 0, 255) # 빨간\n",
    "                    right_hip_count +=1\n",
    "                    total_hip_err+=1\n",
    "                cv2.circle(img_result, center = (left_hip_x,left_hip_y ), radius = 5, color=color,thickness=2)\n",
    "                cv2.circle(img_result, center = (right_hip_x,right_hip_y ), radius = 5 , color=color,thickness=2)\n",
    "                    \n",
    "                #어깨\n",
    "                cv2.circle(img_result, center = (first_left_shoulder_x,left_shoulder_y ), radius = 10, color=(0, 255, 255),thickness=2)\n",
    "                cv2.circle(img_result, center = (first_right_shoulder_x,right_shoulder_y ), radius = 10 , color=(0, 255, 255),thickness=2)                \n",
    "                \n",
    "                #어깨 틀어질경우\n",
    "                if left_shoulder_x < first_left_shoulder_x-5: \n",
    "                    color = (0,0,255) #빨간색\n",
    "                   \n",
    "                elif first_right_shoulder_x + 5 < right_shoulder_x:\n",
    "                    color = (0,0,255) #빨간색\n",
    "                 \n",
    "\n",
    "                cv2.circle(img_result, center = (left_shoulder_x,left_shoulder_y ), radius = 5 , color=color,thickness=2)                \n",
    "                cv2.circle(img_result, center = (right_shoulder_x,right_shoulder_y ), radius = 5 , color=color,thickness=2)\n",
    "                \n",
    "                #동작 수행\n",
    "                #첫 발의 각도\n",
    "                if angle2<30 or angle2>=46:\n",
    "                    cv2.putText(img_result,\"right_heel_angel : \"+str(int(angle2)),(50,100),fontFace=cv2.FONT_HERSHEY_SIMPLEX, fontScale=1, color=(255, 255, 255), thickness=2)\n",
    "                \n",
    "                if angle < 140:\n",
    "                    stage = \"down\"\n",
    "                    #if angle3<100: \n",
    "#                         cv2.putText(img_result,\"얼마만큼 : \"+str(int(angle3)),(50,150),fontFace=cv2.FONT_HERSHEY_SIMPLEX, fontScale=1, color=(255, 255, 255), thickness=2)                \n",
    "                \n",
    "                elif angle < 170 and stage =='down':\n",
    "                    stage=\"up\"\n",
    "                    hip_cnt += 1\n",
    "                cv2.putText(img_result,\"right_heel_angel : \"+str(int(angle2)),(50,100),fontFace=cv2.FONT_HERSHEY_SIMPLEX, fontScale=1, color=(255, 255, 255), thickness=2)    \n",
    "                cv2.putText(img_result,\"hip_angle : \"+str(int(angle)),(50,200),fontFace=cv2.FONT_HERSHEY_SIMPLEX, fontScale=1, color=(255, 255, 255), thickness=2)                \n",
    "                cv2.putText(img_result,\"heel_angle : \"+str(int(angle3)),(50,150),fontFace=cv2.FONT_HERSHEY_SIMPLEX, fontScale=1, color=(255, 255, 255), thickness=2)                \n",
    "                cv2.putText(img_result,\"count : \" + str(hip_cnt),(50,50),fontFace=cv2.FONT_HERSHEY_SIMPLEX, fontScale=1, color=(255, 255, 255), thickness=2)\n",
    "                # cv2.putText(img_result,\"left_hip_err : \" + str(left_hip_count/total_hip_err*100) + \"right_hip_err\"+ str(right_hip_count/total_hip_err*100),(50,50),fontFace=cv2.FONT_HERSHEY_SIMPLEX, fontScale=1, color=(255, 255, 255), thickness=2)\n",
    "\n",
    "                cv2.imshow('MediaPipe Pose', img_result)\n",
    "                out.write(img_result)\n",
    "                if cv2.waitKey(1)==ord(\"w\"):\n",
    "                        time.sleep(3)\n",
    "                if cv2.waitKey(1)==ord(\"q\"):\n",
    "                    break\n",
    "\n",
    "cap.release()\n",
    "cv2.destroyAllWindows()\n",
    "left_hip_per_err = left_hip_count/total_hip_err*100\n",
    "right_hip_per_err = right_hip_count/total_hip_err*100\n",
    "print(\"left_hip_per_err : \" , left_hip_per_err)\n",
    "print(\"right_hip_per_err : \" , right_hip_per_err)\n"
   ]
  },
  {
   "cell_type": "code",
   "execution_count": null,
   "id": "b03dab11",
   "metadata": {
    "id": "e8baef64-854f-4b1a-8da6-8e934380bb2b"
   },
   "outputs": [],
   "source": []
  },
  {
   "cell_type": "code",
   "execution_count": null,
   "id": "6978c585",
   "metadata": {
    "id": "2c3da6b8-0088-4ff7-92a6-fa2cf41963f7"
   },
   "outputs": [],
   "source": []
  },
  {
   "cell_type": "code",
   "execution_count": null,
   "id": "895018f5",
   "metadata": {
    "id": "2c2b00c0-0a92-43c6-ba7c-73ef641256f3"
   },
   "outputs": [],
   "source": []
  },
  {
   "cell_type": "code",
   "execution_count": null,
   "id": "c5753c1f",
   "metadata": {
    "id": "22985a86-b675-48d1-973a-98512166e555"
   },
   "outputs": [],
   "source": []
  },
  {
   "cell_type": "code",
   "execution_count": null,
   "id": "5701eb31",
   "metadata": {
    "id": "1649dd47-f183-4d16-8fdc-d54bda12120b"
   },
   "outputs": [],
   "source": []
  },
  {
   "cell_type": "code",
   "execution_count": null,
   "id": "83482fa1",
   "metadata": {
    "id": "957113c2-7faa-41ca-b0d2-74b28a389a39"
   },
   "outputs": [],
   "source": []
  },
  {
   "cell_type": "code",
   "execution_count": null,
   "id": "b922d2ff",
   "metadata": {
    "id": "290e09c8-c773-4939-a7da-a7db646a6d08"
   },
   "outputs": [],
   "source": []
  },
  {
   "cell_type": "code",
   "execution_count": null,
   "id": "96cad8c3",
   "metadata": {
    "id": "5170cbd5-c7fd-4840-ba04-b88d5a523434"
   },
   "outputs": [],
   "source": []
  },
  {
   "cell_type": "code",
   "execution_count": null,
   "id": "dd2376bd",
   "metadata": {
    "id": "aac1dbec-8e48-4cee-8b7e-3cb83bc319bb"
   },
   "outputs": [],
   "source": []
  },
  {
   "cell_type": "code",
   "execution_count": null,
   "id": "90cad2b1",
   "metadata": {
    "id": "94264caf-9ca6-45b9-a10c-fce383343a14"
   },
   "outputs": [],
   "source": []
  },
  {
   "cell_type": "code",
   "execution_count": null,
   "id": "e7a2f2d0",
   "metadata": {
    "id": "e3db858c-79c8-416a-be95-c1cc748d9a4a"
   },
   "outputs": [],
   "source": []
  },
  {
   "cell_type": "code",
   "execution_count": null,
   "id": "1c7bf02d",
   "metadata": {
    "id": "49c7cf9d-fc52-4954-9297-adb2d0d4ac90"
   },
   "outputs": [],
   "source": []
  },
  {
   "cell_type": "code",
   "execution_count": null,
   "id": "7bd077bb",
   "metadata": {
    "id": "f3293430-0d82-4cfa-99f4-dd274e4012c3"
   },
   "outputs": [],
   "source": []
  },
  {
   "cell_type": "code",
   "execution_count": null,
   "id": "db795e71",
   "metadata": {
    "id": "84e13386-d114-46be-bec4-dc22910c3f06"
   },
   "outputs": [],
   "source": []
  },
  {
   "cell_type": "code",
   "execution_count": null,
   "id": "a687f6c6",
   "metadata": {
    "id": "3088ef58-dc6c-428e-9251-212d5859d28a"
   },
   "outputs": [],
   "source": []
  },
  {
   "cell_type": "code",
   "execution_count": null,
   "id": "151854ae",
   "metadata": {
    "id": "4d0930e7-e0eb-4ff4-a77d-8bb26d7179c9"
   },
   "outputs": [],
   "source": []
  },
  {
   "cell_type": "code",
   "execution_count": null,
   "id": "ed93aa5c",
   "metadata": {
    "id": "11566e0e-6a10-40ee-9efc-ed4a7dc133e3"
   },
   "outputs": [],
   "source": []
  },
  {
   "cell_type": "code",
   "execution_count": null,
   "id": "43ae37ca",
   "metadata": {
    "id": "22af9d3b-a83c-41d3-959f-5a9a358b1b77"
   },
   "outputs": [],
   "source": []
  },
  {
   "cell_type": "code",
   "execution_count": null,
   "id": "1f997520",
   "metadata": {
    "id": "0d76f7b5-aef4-4957-ba2c-a057e01f3a33"
   },
   "outputs": [],
   "source": []
  },
  {
   "cell_type": "code",
   "execution_count": null,
   "id": "cf2e0a73",
   "metadata": {
    "id": "4a18d224-446c-4d34-b238-1202837e4bba"
   },
   "outputs": [],
   "source": []
  },
  {
   "cell_type": "code",
   "execution_count": null,
   "id": "cfa17250",
   "metadata": {
    "id": "288f79eb-e8f7-49f3-8012-e5625237c436"
   },
   "outputs": [],
   "source": []
  },
  {
   "cell_type": "code",
   "execution_count": null,
   "id": "d46a2f95",
   "metadata": {
    "id": "4df7b4a6-7c80-40f1-876c-62d27966a018"
   },
   "outputs": [],
   "source": []
  },
  {
   "cell_type": "code",
   "execution_count": null,
   "id": "fa42acf2",
   "metadata": {
    "id": "4783c802-de79-432c-bdd2-fcbbc53eafb4"
   },
   "outputs": [],
   "source": []
  },
  {
   "cell_type": "code",
   "execution_count": null,
   "id": "e53fed6b",
   "metadata": {
    "id": "a5d2ca54-3528-4403-b1f5-168c26039f7e"
   },
   "outputs": [],
   "source": []
  }
 ],
 "metadata": {
  "colab": {
   "collapsed_sections": [],
   "provenance": []
  },
  "kernelspec": {
   "display_name": "'cuda'",
   "language": "python",
   "name": "cuda"
  },
  "language_info": {
   "codemirror_mode": {
    "name": "ipython",
    "version": 3
   },
   "file_extension": ".py",
   "mimetype": "text/x-python",
   "name": "python",
   "nbconvert_exporter": "python",
   "pygments_lexer": "ipython3",
   "version": "3.9.15"
  },
  "widgets": {
   "application/vnd.jupyter.widget-state+json": {
    "state": {},
    "version_major": 2,
    "version_minor": 0
   }
  }
 },
 "nbformat": 4,
 "nbformat_minor": 5
}
