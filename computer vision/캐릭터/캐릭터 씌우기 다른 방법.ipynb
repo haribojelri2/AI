{
 "cells": [
  {
   "cell_type": "code",
   "execution_count": 16,
   "metadata": {},
   "outputs": [
    {
     "name": "stderr",
     "output_type": "stream",
     "text": [
      "C:\\Users\\pc\\AppData\\Local\\Temp\\ipykernel_16948\\1956853681.py:47: DeprecationWarning: `np.int` is a deprecated alias for the builtin `int`. To silence this warning, use `int` by itself. Doing this will not modify any behavior and is safe. When replacing `np.int`, you may wish to use e.g. `np.int64` or `np.int32` to specify the precision. If you wish to review your current use, check the release note link for additional information.\n",
      "Deprecated in NumPy 1.20; for more details and guidance: https://numpy.org/devdocs/release/1.20.0-notes.html#deprecations\n",
      "  Left = np.mean(list_points[LEFT_EYE],axis=0).astype(np.int)\n",
      "C:\\Users\\pc\\AppData\\Local\\Temp\\ipykernel_16948\\1956853681.py:49: DeprecationWarning: `np.int` is a deprecated alias for the builtin `int`. To silence this warning, use `int` by itself. Doing this will not modify any behavior and is safe. When replacing `np.int`, you may wish to use e.g. `np.int64` or `np.int32` to specify the precision. If you wish to review your current use, check the release note link for additional information.\n",
      "Deprecated in NumPy 1.20; for more details and guidance: https://numpy.org/devdocs/release/1.20.0-notes.html#deprecations\n",
      "  Right = np.mean(list_points[RIGHT_EYE],axis=0).astype(np.int)\n",
      "C:\\Users\\pc\\AppData\\Local\\Temp\\ipykernel_16948\\1956853681.py:51: DeprecationWarning: `np.int` is a deprecated alias for the builtin `int`. To silence this warning, use `int` by itself. Doing this will not modify any behavior and is safe. When replacing `np.int`, you may wish to use e.g. `np.int64` or `np.int32` to specify the precision. If you wish to review your current use, check the release note link for additional information.\n",
      "Deprecated in NumPy 1.20; for more details and guidance: https://numpy.org/devdocs/release/1.20.0-notes.html#deprecations\n",
      "  Nose = np.mean(list_points[NOSE],axis=0).astype(np.int)\n"
     ]
    }
   ],
   "source": [
    "import cv2, dlib\n",
    "import numpy as np\n",
    "\n",
    "\n",
    "def overlay(img,x,y,w,h,overlay_img): # 대상 이미지(3채널), x,y좌표, width,height, 덮어씌울 이미지(4채널)\n",
    "    alpha = overlay_img[:, :, 3]\n",
    "    mask_img = alpha / 255 #1은 불투명, 0은 투명\n",
    "    for c in range(0, 3): # channel BGR\n",
    "        img[y-h:y+h, x-w:x+w, c] = (overlay_img[:, :, c] * mask_img) + (img[y-h:y+h, x-w:x+w, c] * (1 - mask_img))\n",
    "image_right_eye = cv2.imread('right_eye.png', cv2.IMREAD_UNCHANGED) # 100 x 100\n",
    "image_left_eye = cv2.imread('left_eye.png', cv2.IMREAD_UNCHANGED) # 100 x 100\n",
    "image_nose = cv2.imread('nose.png', cv2.IMREAD_UNCHANGED) # 300 x 100 (가로, 세로)\n",
    "\n",
    "\n",
    "detector = dlib.get_frontal_face_detector()\n",
    "predictor = dlib.shape_predictor('shape_predictor_68_face_landmarks.dat')\n",
    "\n",
    "cap = cv2.VideoCapture(0)\n",
    "\n",
    "fourcc = cv2.VideoWriter_fourcc(*'DIVX')\n",
    "\n",
    "width=round(cap.get(cv2.CAP_PROP_FRAME_WIDTH))\n",
    "\n",
    "height=round(cap.get(cv2.CAP_PROP_FRAME_HEIGHT))\n",
    "\n",
    "fps=cap.get(cv2.CAP_PROP_FPS)\n",
    "\n",
    "out=cv2.VideoWriter(\"output.avi\",fourcc,fps,(width,height))\n",
    "\n",
    "LEFT_EYE = list(range(43,48))\n",
    "\n",
    "RIGHT_EYE = list(range(36,42))\n",
    "\n",
    "NOSE = list(range(27,36))\n",
    "\n",
    "index = list(range(27,48))\n",
    "\n",
    "while True:\n",
    "    ret, img = cap.read()\n",
    "    \n",
    "    \n",
    "    faces = detector(img,1)\n",
    "    \n",
    "    for face in faces:\n",
    "        \n",
    "        \n",
    "        \n",
    "        shape = predictor(img,face)\n",
    "        \n",
    "        list_points = []\n",
    "        for p in shape.parts():\n",
    "            list_points.append([p.x,p.y])\n",
    "        list_points = np.array(list_points)\n",
    "        \n",
    "        \n",
    "            \n",
    "        Left = np.mean(list_points[LEFT_EYE],axis=0).astype(np.int)\n",
    "        Left_Eye = (Left[0]+20,Left[1]-50)\n",
    "        Right = np.mean(list_points[RIGHT_EYE],axis=0).astype(np.int)                           \n",
    "        Right_Eye = (Right[0]-20,Right[1]-50)\n",
    "        Nose = np.mean(list_points[NOSE],axis=0).astype(np.int)\n",
    "\n",
    "        \n",
    "        overlay(img, Right_Eye[0],Right_Eye[1], 50, 50, image_right_eye)\n",
    "        overlay(img, Left_Eye[0],Left_Eye[1], 50, 50, image_left_eye)\n",
    "        overlay(img, Nose[0],Nose[1]+20, 150, 50, image_nose)\n",
    "        \n",
    "    cv2.imshow(\"img\",img)\n",
    "    \n",
    "    if cv2.waitKey(1)==ord(\"q\"):\n",
    "        break\n",
    "cap.release() \n",
    "cv2.destroyAllWindows()"
   ]
  },
  {
   "cell_type": "code",
   "execution_count": null,
   "metadata": {},
   "outputs": [],
   "source": []
  },
  {
   "cell_type": "code",
   "execution_count": null,
   "metadata": {},
   "outputs": [],
   "source": []
  },
  {
   "cell_type": "code",
   "execution_count": null,
   "metadata": {},
   "outputs": [],
   "source": []
  },
  {
   "cell_type": "code",
   "execution_count": null,
   "metadata": {},
   "outputs": [],
   "source": []
  },
  {
   "cell_type": "code",
   "execution_count": null,
   "metadata": {},
   "outputs": [],
   "source": []
  },
  {
   "cell_type": "code",
   "execution_count": null,
   "metadata": {},
   "outputs": [],
   "source": []
  }
 ],
 "metadata": {
  "kernelspec": {
   "display_name": "'cuda'",
   "language": "python",
   "name": "cuda"
  },
  "language_info": {
   "codemirror_mode": {
    "name": "ipython",
    "version": 3
   },
   "file_extension": ".py",
   "mimetype": "text/x-python",
   "name": "python",
   "nbconvert_exporter": "python",
   "pygments_lexer": "ipython3",
   "version": "3.9.15"
  },
  "widgets": {
   "application/vnd.jupyter.widget-state+json": {
    "state": {},
    "version_major": 2,
    "version_minor": 0
   }
  }
 },
 "nbformat": 4,
 "nbformat_minor": 4
}
